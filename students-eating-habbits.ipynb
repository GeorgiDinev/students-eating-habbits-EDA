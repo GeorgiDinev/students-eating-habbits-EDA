{
 "cells": [
  {
   "cell_type": "markdown",
   "metadata": {},
   "source": [
    "\n",
    "## Do American students from  Mercyhurst University who exercise everyday eat healthy?"
   ]
  },
  {
   "cell_type": "markdown",
   "metadata": {},
   "source": [
    "### Author Georgi Dinev"
   ]
  },
  {
   "cell_type": "markdown",
   "metadata": {},
   "source": [
    "## Abstract\n",
    "\n",
    "This project investigates the eating and drinking habbits of the most physically active students from Mercyhurst University(USA). The final goal is to see if they eat healthy or not. For that purpose their food preferences, favourite cuisines, drink choises, breakfast preferences and their awareness about the food nutritions were explored from 3 different datasets. The result is that even though they exercise a lot, they tend to not care about what they eat in general."
   ]
  },
  {
   "cell_type": "code",
   "execution_count": 26,
   "metadata": {},
   "outputs": [],
   "source": [
    "%matplotlib inline"
   ]
  },
  {
   "cell_type": "code",
   "execution_count": 27,
   "metadata": {},
   "outputs": [],
   "source": [
    "import matplotlib.pyplot as plt\n",
    "import pandas as pd\n",
    "from collections import Counter"
   ]
  },
  {
   "cell_type": "code",
   "execution_count": 28,
   "metadata": {
    "scrolled": true
   },
   "outputs": [
    {
     "data": {
      "text/html": [
       "<div>\n",
       "<style scoped>\n",
       "    .dataframe tbody tr th:only-of-type {\n",
       "        vertical-align: middle;\n",
       "    }\n",
       "\n",
       "    .dataframe tbody tr th {\n",
       "        vertical-align: top;\n",
       "    }\n",
       "\n",
       "    .dataframe thead th {\n",
       "        text-align: right;\n",
       "    }\n",
       "</style>\n",
       "<table border=\"1\" class=\"dataframe\">\n",
       "  <thead>\n",
       "    <tr style=\"text-align: right;\">\n",
       "      <th></th>\n",
       "      <th>GPA</th>\n",
       "      <th>Gender</th>\n",
       "      <th>breakfast</th>\n",
       "      <th>calories_chicken</th>\n",
       "      <th>calories_day</th>\n",
       "      <th>calories_scone</th>\n",
       "      <th>coffee</th>\n",
       "      <th>comfort_food</th>\n",
       "      <th>comfort_food_reasons</th>\n",
       "      <th>comfort_food_reasons_coded</th>\n",
       "      <th>...</th>\n",
       "      <th>soup</th>\n",
       "      <th>sports</th>\n",
       "      <th>thai_food</th>\n",
       "      <th>tortilla_calories</th>\n",
       "      <th>turkey_calories</th>\n",
       "      <th>type_sports</th>\n",
       "      <th>veggies_day</th>\n",
       "      <th>vitamins</th>\n",
       "      <th>waffle_calories</th>\n",
       "      <th>weight</th>\n",
       "    </tr>\n",
       "  </thead>\n",
       "  <tbody>\n",
       "    <tr>\n",
       "      <th>0</th>\n",
       "      <td>2.4</td>\n",
       "      <td>2</td>\n",
       "      <td>1</td>\n",
       "      <td>430</td>\n",
       "      <td>NaN</td>\n",
       "      <td>315.0</td>\n",
       "      <td>1</td>\n",
       "      <td>none</td>\n",
       "      <td>we dont have comfort</td>\n",
       "      <td>9.0</td>\n",
       "      <td>...</td>\n",
       "      <td>1.0</td>\n",
       "      <td>1.0</td>\n",
       "      <td>1</td>\n",
       "      <td>1165.0</td>\n",
       "      <td>345</td>\n",
       "      <td>car racing</td>\n",
       "      <td>5</td>\n",
       "      <td>1</td>\n",
       "      <td>1315</td>\n",
       "      <td>187</td>\n",
       "    </tr>\n",
       "    <tr>\n",
       "      <th>1</th>\n",
       "      <td>3.654</td>\n",
       "      <td>1</td>\n",
       "      <td>1</td>\n",
       "      <td>610</td>\n",
       "      <td>3.0</td>\n",
       "      <td>420.0</td>\n",
       "      <td>2</td>\n",
       "      <td>chocolate, chips, ice cream</td>\n",
       "      <td>Stress, bored, anger</td>\n",
       "      <td>1.0</td>\n",
       "      <td>...</td>\n",
       "      <td>1.0</td>\n",
       "      <td>1.0</td>\n",
       "      <td>2</td>\n",
       "      <td>725.0</td>\n",
       "      <td>690</td>\n",
       "      <td>Basketball</td>\n",
       "      <td>4</td>\n",
       "      <td>2</td>\n",
       "      <td>900</td>\n",
       "      <td>155</td>\n",
       "    </tr>\n",
       "    <tr>\n",
       "      <th>2</th>\n",
       "      <td>3.3</td>\n",
       "      <td>1</td>\n",
       "      <td>1</td>\n",
       "      <td>720</td>\n",
       "      <td>4.0</td>\n",
       "      <td>420.0</td>\n",
       "      <td>2</td>\n",
       "      <td>frozen yogurt, pizza, fast food</td>\n",
       "      <td>stress, sadness</td>\n",
       "      <td>1.0</td>\n",
       "      <td>...</td>\n",
       "      <td>1.0</td>\n",
       "      <td>2.0</td>\n",
       "      <td>5</td>\n",
       "      <td>1165.0</td>\n",
       "      <td>500</td>\n",
       "      <td>none</td>\n",
       "      <td>5</td>\n",
       "      <td>1</td>\n",
       "      <td>900</td>\n",
       "      <td>I'm not answering this.</td>\n",
       "    </tr>\n",
       "    <tr>\n",
       "      <th>3</th>\n",
       "      <td>3.2</td>\n",
       "      <td>1</td>\n",
       "      <td>1</td>\n",
       "      <td>430</td>\n",
       "      <td>3.0</td>\n",
       "      <td>420.0</td>\n",
       "      <td>2</td>\n",
       "      <td>Pizza, Mac and cheese, ice cream</td>\n",
       "      <td>Boredom</td>\n",
       "      <td>2.0</td>\n",
       "      <td>...</td>\n",
       "      <td>1.0</td>\n",
       "      <td>2.0</td>\n",
       "      <td>5</td>\n",
       "      <td>725.0</td>\n",
       "      <td>690</td>\n",
       "      <td>NaN</td>\n",
       "      <td>3</td>\n",
       "      <td>1</td>\n",
       "      <td>1315</td>\n",
       "      <td>Not sure, 240</td>\n",
       "    </tr>\n",
       "    <tr>\n",
       "      <th>4</th>\n",
       "      <td>3.5</td>\n",
       "      <td>1</td>\n",
       "      <td>1</td>\n",
       "      <td>720</td>\n",
       "      <td>2.0</td>\n",
       "      <td>420.0</td>\n",
       "      <td>2</td>\n",
       "      <td>Ice cream, chocolate, chips</td>\n",
       "      <td>Stress, boredom, cravings</td>\n",
       "      <td>1.0</td>\n",
       "      <td>...</td>\n",
       "      <td>1.0</td>\n",
       "      <td>1.0</td>\n",
       "      <td>4</td>\n",
       "      <td>940.0</td>\n",
       "      <td>500</td>\n",
       "      <td>Softball</td>\n",
       "      <td>4</td>\n",
       "      <td>2</td>\n",
       "      <td>760</td>\n",
       "      <td>190</td>\n",
       "    </tr>\n",
       "  </tbody>\n",
       "</table>\n",
       "<p>5 rows × 61 columns</p>\n",
       "</div>"
      ],
      "text/plain": [
       "     GPA  Gender  breakfast  calories_chicken  calories_day  calories_scone  \\\n",
       "0    2.4       2          1               430           NaN           315.0   \n",
       "1  3.654       1          1               610           3.0           420.0   \n",
       "2    3.3       1          1               720           4.0           420.0   \n",
       "3    3.2       1          1               430           3.0           420.0   \n",
       "4    3.5       1          1               720           2.0           420.0   \n",
       "\n",
       "   coffee                      comfort_food        comfort_food_reasons  \\\n",
       "0       1                              none       we dont have comfort    \n",
       "1       2       chocolate, chips, ice cream        Stress, bored, anger   \n",
       "2       2   frozen yogurt, pizza, fast food             stress, sadness   \n",
       "3       2  Pizza, Mac and cheese, ice cream                     Boredom   \n",
       "4       2      Ice cream, chocolate, chips   Stress, boredom, cravings    \n",
       "\n",
       "   comfort_food_reasons_coded            ...             soup  sports  \\\n",
       "0                         9.0            ...              1.0     1.0   \n",
       "1                         1.0            ...              1.0     1.0   \n",
       "2                         1.0            ...              1.0     2.0   \n",
       "3                         2.0            ...              1.0     2.0   \n",
       "4                         1.0            ...              1.0     1.0   \n",
       "\n",
       "   thai_food tortilla_calories  turkey_calories  type_sports veggies_day  \\\n",
       "0          1            1165.0              345   car racing           5   \n",
       "1          2             725.0              690  Basketball            4   \n",
       "2          5            1165.0              500         none           5   \n",
       "3          5             725.0              690          NaN           3   \n",
       "4          4             940.0              500     Softball           4   \n",
       "\n",
       "   vitamins  waffle_calories                    weight  \n",
       "0         1             1315                       187  \n",
       "1         2              900                       155  \n",
       "2         1              900  I'm not answering this.   \n",
       "3         1             1315             Not sure, 240  \n",
       "4         2              760                       190  \n",
       "\n",
       "[5 rows x 61 columns]"
      ]
     },
     "execution_count": 28,
     "metadata": {},
     "output_type": "execute_result"
    }
   ],
   "source": [
    "us_students_data = pd.read_csv(\"data/food_coded.csv\")\n",
    "us_students_data.head()"
   ]
  },
  {
   "cell_type": "code",
   "execution_count": 29,
   "metadata": {},
   "outputs": [
    {
     "data": {
      "text/plain": [
       "(125, 61)"
      ]
     },
     "execution_count": 29,
     "metadata": {},
     "output_type": "execute_result"
    }
   ],
   "source": [
    "us_students_data.shape"
   ]
  },
  {
   "cell_type": "code",
   "execution_count": 30,
   "metadata": {},
   "outputs": [
    {
     "data": {
      "text/html": [
       "<div>\n",
       "<style scoped>\n",
       "    .dataframe tbody tr th:only-of-type {\n",
       "        vertical-align: middle;\n",
       "    }\n",
       "\n",
       "    .dataframe tbody tr th {\n",
       "        vertical-align: top;\n",
       "    }\n",
       "\n",
       "    .dataframe thead th {\n",
       "        text-align: right;\n",
       "    }\n",
       "</style>\n",
       "<table border=\"1\" class=\"dataframe\">\n",
       "  <thead>\n",
       "    <tr style=\"text-align: right;\">\n",
       "      <th></th>\n",
       "      <th>Gender</th>\n",
       "      <th>breakfast</th>\n",
       "      <th>calories_chicken</th>\n",
       "      <th>calories_day</th>\n",
       "      <th>calories_scone</th>\n",
       "      <th>coffee</th>\n",
       "      <th>comfort_food_reasons_coded</th>\n",
       "      <th>cook</th>\n",
       "      <th>comfort_food_reasons_coded.1</th>\n",
       "      <th>cuisine</th>\n",
       "      <th>...</th>\n",
       "      <th>persian_food</th>\n",
       "      <th>self_perception_weight</th>\n",
       "      <th>soup</th>\n",
       "      <th>sports</th>\n",
       "      <th>thai_food</th>\n",
       "      <th>tortilla_calories</th>\n",
       "      <th>turkey_calories</th>\n",
       "      <th>veggies_day</th>\n",
       "      <th>vitamins</th>\n",
       "      <th>waffle_calories</th>\n",
       "    </tr>\n",
       "  </thead>\n",
       "  <tbody>\n",
       "    <tr>\n",
       "      <th>count</th>\n",
       "      <td>125.000000</td>\n",
       "      <td>125.000000</td>\n",
       "      <td>125.000000</td>\n",
       "      <td>106.000000</td>\n",
       "      <td>124.000000</td>\n",
       "      <td>125.00000</td>\n",
       "      <td>106.000000</td>\n",
       "      <td>122.000000</td>\n",
       "      <td>125.000000</td>\n",
       "      <td>108.000000</td>\n",
       "      <td>...</td>\n",
       "      <td>124.000000</td>\n",
       "      <td>124.000000</td>\n",
       "      <td>124.000000</td>\n",
       "      <td>123.000000</td>\n",
       "      <td>125.000000</td>\n",
       "      <td>124.000000</td>\n",
       "      <td>125.000000</td>\n",
       "      <td>125.000000</td>\n",
       "      <td>125.000000</td>\n",
       "      <td>125.000000</td>\n",
       "    </tr>\n",
       "    <tr>\n",
       "      <th>mean</th>\n",
       "      <td>1.392000</td>\n",
       "      <td>1.112000</td>\n",
       "      <td>577.320000</td>\n",
       "      <td>3.028302</td>\n",
       "      <td>505.241935</td>\n",
       "      <td>1.75200</td>\n",
       "      <td>2.698113</td>\n",
       "      <td>2.786885</td>\n",
       "      <td>2.688000</td>\n",
       "      <td>1.388889</td>\n",
       "      <td>...</td>\n",
       "      <td>2.806452</td>\n",
       "      <td>3.120968</td>\n",
       "      <td>1.217742</td>\n",
       "      <td>1.390244</td>\n",
       "      <td>3.336000</td>\n",
       "      <td>947.580645</td>\n",
       "      <td>555.040000</td>\n",
       "      <td>4.008000</td>\n",
       "      <td>1.512000</td>\n",
       "      <td>1073.400000</td>\n",
       "    </tr>\n",
       "    <tr>\n",
       "      <th>std</th>\n",
       "      <td>0.490161</td>\n",
       "      <td>0.316636</td>\n",
       "      <td>131.214156</td>\n",
       "      <td>0.639308</td>\n",
       "      <td>230.840506</td>\n",
       "      <td>0.43359</td>\n",
       "      <td>1.972042</td>\n",
       "      <td>1.038351</td>\n",
       "      <td>1.910987</td>\n",
       "      <td>0.974759</td>\n",
       "      <td>...</td>\n",
       "      <td>1.423824</td>\n",
       "      <td>1.115980</td>\n",
       "      <td>0.414385</td>\n",
       "      <td>0.489800</td>\n",
       "      <td>1.436528</td>\n",
       "      <td>202.090179</td>\n",
       "      <td>152.370379</td>\n",
       "      <td>1.081337</td>\n",
       "      <td>0.501867</td>\n",
       "      <td>248.667092</td>\n",
       "    </tr>\n",
       "    <tr>\n",
       "      <th>min</th>\n",
       "      <td>1.000000</td>\n",
       "      <td>1.000000</td>\n",
       "      <td>265.000000</td>\n",
       "      <td>2.000000</td>\n",
       "      <td>315.000000</td>\n",
       "      <td>1.00000</td>\n",
       "      <td>1.000000</td>\n",
       "      <td>1.000000</td>\n",
       "      <td>1.000000</td>\n",
       "      <td>1.000000</td>\n",
       "      <td>...</td>\n",
       "      <td>1.000000</td>\n",
       "      <td>1.000000</td>\n",
       "      <td>1.000000</td>\n",
       "      <td>1.000000</td>\n",
       "      <td>1.000000</td>\n",
       "      <td>580.000000</td>\n",
       "      <td>345.000000</td>\n",
       "      <td>1.000000</td>\n",
       "      <td>1.000000</td>\n",
       "      <td>575.000000</td>\n",
       "    </tr>\n",
       "    <tr>\n",
       "      <th>25%</th>\n",
       "      <td>1.000000</td>\n",
       "      <td>1.000000</td>\n",
       "      <td>430.000000</td>\n",
       "      <td>3.000000</td>\n",
       "      <td>420.000000</td>\n",
       "      <td>2.00000</td>\n",
       "      <td>2.000000</td>\n",
       "      <td>2.000000</td>\n",
       "      <td>2.000000</td>\n",
       "      <td>1.000000</td>\n",
       "      <td>...</td>\n",
       "      <td>2.000000</td>\n",
       "      <td>2.000000</td>\n",
       "      <td>1.000000</td>\n",
       "      <td>1.000000</td>\n",
       "      <td>2.000000</td>\n",
       "      <td>725.000000</td>\n",
       "      <td>500.000000</td>\n",
       "      <td>3.000000</td>\n",
       "      <td>1.000000</td>\n",
       "      <td>900.000000</td>\n",
       "    </tr>\n",
       "    <tr>\n",
       "      <th>50%</th>\n",
       "      <td>1.000000</td>\n",
       "      <td>1.000000</td>\n",
       "      <td>610.000000</td>\n",
       "      <td>3.000000</td>\n",
       "      <td>420.000000</td>\n",
       "      <td>2.00000</td>\n",
       "      <td>2.000000</td>\n",
       "      <td>3.000000</td>\n",
       "      <td>2.000000</td>\n",
       "      <td>1.000000</td>\n",
       "      <td>...</td>\n",
       "      <td>3.000000</td>\n",
       "      <td>3.000000</td>\n",
       "      <td>1.000000</td>\n",
       "      <td>1.000000</td>\n",
       "      <td>3.000000</td>\n",
       "      <td>940.000000</td>\n",
       "      <td>500.000000</td>\n",
       "      <td>4.000000</td>\n",
       "      <td>2.000000</td>\n",
       "      <td>900.000000</td>\n",
       "    </tr>\n",
       "    <tr>\n",
       "      <th>75%</th>\n",
       "      <td>2.000000</td>\n",
       "      <td>1.000000</td>\n",
       "      <td>720.000000</td>\n",
       "      <td>3.000000</td>\n",
       "      <td>420.000000</td>\n",
       "      <td>2.00000</td>\n",
       "      <td>3.000000</td>\n",
       "      <td>3.000000</td>\n",
       "      <td>3.000000</td>\n",
       "      <td>1.000000</td>\n",
       "      <td>...</td>\n",
       "      <td>4.000000</td>\n",
       "      <td>4.000000</td>\n",
       "      <td>1.000000</td>\n",
       "      <td>2.000000</td>\n",
       "      <td>5.000000</td>\n",
       "      <td>1165.000000</td>\n",
       "      <td>690.000000</td>\n",
       "      <td>5.000000</td>\n",
       "      <td>2.000000</td>\n",
       "      <td>1315.000000</td>\n",
       "    </tr>\n",
       "    <tr>\n",
       "      <th>max</th>\n",
       "      <td>2.000000</td>\n",
       "      <td>2.000000</td>\n",
       "      <td>720.000000</td>\n",
       "      <td>4.000000</td>\n",
       "      <td>980.000000</td>\n",
       "      <td>2.00000</td>\n",
       "      <td>9.000000</td>\n",
       "      <td>5.000000</td>\n",
       "      <td>9.000000</td>\n",
       "      <td>6.000000</td>\n",
       "      <td>...</td>\n",
       "      <td>5.000000</td>\n",
       "      <td>6.000000</td>\n",
       "      <td>2.000000</td>\n",
       "      <td>2.000000</td>\n",
       "      <td>5.000000</td>\n",
       "      <td>1165.000000</td>\n",
       "      <td>850.000000</td>\n",
       "      <td>5.000000</td>\n",
       "      <td>2.000000</td>\n",
       "      <td>1315.000000</td>\n",
       "    </tr>\n",
       "  </tbody>\n",
       "</table>\n",
       "<p>8 rows × 47 columns</p>\n",
       "</div>"
      ],
      "text/plain": [
       "           Gender   breakfast  calories_chicken  calories_day  calories_scone  \\\n",
       "count  125.000000  125.000000        125.000000    106.000000      124.000000   \n",
       "mean     1.392000    1.112000        577.320000      3.028302      505.241935   \n",
       "std      0.490161    0.316636        131.214156      0.639308      230.840506   \n",
       "min      1.000000    1.000000        265.000000      2.000000      315.000000   \n",
       "25%      1.000000    1.000000        430.000000      3.000000      420.000000   \n",
       "50%      1.000000    1.000000        610.000000      3.000000      420.000000   \n",
       "75%      2.000000    1.000000        720.000000      3.000000      420.000000   \n",
       "max      2.000000    2.000000        720.000000      4.000000      980.000000   \n",
       "\n",
       "          coffee  comfort_food_reasons_coded        cook  \\\n",
       "count  125.00000                  106.000000  122.000000   \n",
       "mean     1.75200                    2.698113    2.786885   \n",
       "std      0.43359                    1.972042    1.038351   \n",
       "min      1.00000                    1.000000    1.000000   \n",
       "25%      2.00000                    2.000000    2.000000   \n",
       "50%      2.00000                    2.000000    3.000000   \n",
       "75%      2.00000                    3.000000    3.000000   \n",
       "max      2.00000                    9.000000    5.000000   \n",
       "\n",
       "       comfort_food_reasons_coded.1     cuisine       ...         \\\n",
       "count                    125.000000  108.000000       ...          \n",
       "mean                       2.688000    1.388889       ...          \n",
       "std                        1.910987    0.974759       ...          \n",
       "min                        1.000000    1.000000       ...          \n",
       "25%                        2.000000    1.000000       ...          \n",
       "50%                        2.000000    1.000000       ...          \n",
       "75%                        3.000000    1.000000       ...          \n",
       "max                        9.000000    6.000000       ...          \n",
       "\n",
       "       persian_food  self_perception_weight        soup      sports  \\\n",
       "count    124.000000              124.000000  124.000000  123.000000   \n",
       "mean       2.806452                3.120968    1.217742    1.390244   \n",
       "std        1.423824                1.115980    0.414385    0.489800   \n",
       "min        1.000000                1.000000    1.000000    1.000000   \n",
       "25%        2.000000                2.000000    1.000000    1.000000   \n",
       "50%        3.000000                3.000000    1.000000    1.000000   \n",
       "75%        4.000000                4.000000    1.000000    2.000000   \n",
       "max        5.000000                6.000000    2.000000    2.000000   \n",
       "\n",
       "        thai_food  tortilla_calories  turkey_calories  veggies_day  \\\n",
       "count  125.000000         124.000000       125.000000   125.000000   \n",
       "mean     3.336000         947.580645       555.040000     4.008000   \n",
       "std      1.436528         202.090179       152.370379     1.081337   \n",
       "min      1.000000         580.000000       345.000000     1.000000   \n",
       "25%      2.000000         725.000000       500.000000     3.000000   \n",
       "50%      3.000000         940.000000       500.000000     4.000000   \n",
       "75%      5.000000        1165.000000       690.000000     5.000000   \n",
       "max      5.000000        1165.000000       850.000000     5.000000   \n",
       "\n",
       "         vitamins  waffle_calories  \n",
       "count  125.000000       125.000000  \n",
       "mean     1.512000      1073.400000  \n",
       "std      0.501867       248.667092  \n",
       "min      1.000000       575.000000  \n",
       "25%      1.000000       900.000000  \n",
       "50%      2.000000       900.000000  \n",
       "75%      2.000000      1315.000000  \n",
       "max      2.000000      1315.000000  \n",
       "\n",
       "[8 rows x 47 columns]"
      ]
     },
     "execution_count": 30,
     "metadata": {},
     "output_type": "execute_result"
    }
   ],
   "source": [
    "us_students_data.describe()"
   ]
  },
  {
   "cell_type": "code",
   "execution_count": 31,
   "metadata": {},
   "outputs": [],
   "source": [
    "us_students_data = us_students_data.rename(columns={\"exercise\": \"exercise_frequency\", \"nutritional_check\" : \"nutritional_check_frequency\"})"
   ]
  },
  {
   "cell_type": "markdown",
   "metadata": {},
   "source": [
    "Some of the data about the exercise frequency(13 observations) is missing but we can see how many of those students do sports"
   ]
  },
  {
   "cell_type": "code",
   "execution_count": 32,
   "metadata": {},
   "outputs": [
    {
     "data": {
      "text/plain": [
       "13"
      ]
     },
     "execution_count": 32,
     "metadata": {},
     "output_type": "execute_result"
    }
   ],
   "source": [
    "excercise_missing_data = us_students_data.loc[us_students_data.exercise_frequency.isna()]\n",
    "excercise_missing_data.shape[0]\n"
   ]
  },
  {
   "cell_type": "markdown",
   "metadata": {},
   "source": [
    "Looks like some of the students didn't say if they exercise. Lets see if they do sports "
   ]
  },
  {
   "cell_type": "code",
   "execution_count": 33,
   "metadata": {},
   "outputs": [],
   "source": [
    "def plot_students_number_who_do_sports(data_frame, xlabel):\n",
    "    students_who_do_sports = data_frame[data_frame.sports == 1].shape[0]\n",
    "\n",
    "    students_who_dont_do_sports = data_frame[data_frame.sports == 2].shape[0]\n",
    "\n",
    "    plt.bar([\"Yes\", \"No\"], [students_who_do_sports, students_who_dont_do_sports])\n",
    "    plt.xlabel(xlabel)\n",
    "    plt.ylabel(\"Number of students\")\n",
    "    plt.show()"
   ]
  },
  {
   "cell_type": "code",
   "execution_count": 34,
   "metadata": {},
   "outputs": [
    {
     "data": {
      "image/png": "[encoded data removed]",
      "text/plain": [
       "<Figure size 432x288 with 1 Axes>"
      ]
     },
     "metadata": {
      "needs_background": "light"
     },
     "output_type": "display_data"
    }
   ],
   "source": [
    "students_with_no_info_for_excercise = excercise_missing_data.loc[excercise_missing_data.index]\n",
    "\n",
    "plot_students_number_who_do_sports(students_with_no_info_for_excercise, \"Do students who don't exercise do sport?\")"
   ]
  },
  {
   "cell_type": "code",
   "execution_count": 35,
   "metadata": {},
   "outputs": [
    {
     "data": {
      "image/png": "[encoded data removed]",
      "text/plain": [
       "<Figure size 432x288 with 1 Axes>"
      ]
     },
     "metadata": {
      "needs_background": "light"
     },
     "output_type": "display_data"
    }
   ],
   "source": [
    "plot_students_number_who_do_sports(us_students_data, \"Do students in general do sports?\")"
   ]
  },
  {
   "cell_type": "markdown",
   "metadata": {},
   "source": [
    "From the code bellow we can see that almost all(except for the nan's) students exercise at least once a week"
   ]
  },
  {
   "cell_type": "code",
   "execution_count": 36,
   "metadata": {},
   "outputs": [],
   "source": [
    "def get_students_excercise_frequency(dataframe):\n",
    "    num_students_by_excercise_frequncy = {}\n",
    "\n",
    "    for frequency, group in dataframe.groupby(\"exercise_frequency\"):\n",
    "        \n",
    "        frequency_str = get_exercise_frequency_string_representation(frequency)\n",
    "        num_students_by_excercise_frequncy[frequency_str] = group.index.size\n",
    "        \n",
    "    return num_students_by_excercise_frequncy"
   ]
  },
  {
   "cell_type": "code",
   "execution_count": 37,
   "metadata": {},
   "outputs": [],
   "source": [
    "def get_exercise_frequency_string_representation(freq_num):\n",
    "    return {\n",
    "         1: \"Everyday\",\n",
    "         2: \"2 or 3 times a week\",\n",
    "         3: \"Once a week\",\n",
    "         4: \"Sometimes\",\n",
    "         5: \"Never\"\n",
    "    }[freq_num]"
   ]
  },
  {
   "cell_type": "code",
   "execution_count": 38,
   "metadata": {},
   "outputs": [
    {
     "data": {
      "image/png": "[encoded data removed]",
      "text/plain": [
       "<Figure size 432x288 with 1 Axes>"
      ]
     },
     "metadata": {
      "needs_background": "light"
     },
     "output_type": "display_data"
    }
   ],
   "source": [
    "exercise_frequency = get_students_excercise_frequency(us_students_data)\n",
    "\n",
    "plt.bar(exercise_frequency.keys(), exercise_frequency.values())\n",
    "plt.xlabel(\"Exercise frequency\")\n",
    "plt.ylabel(\"Number of students\")\n",
    "plt.show()"
   ]
  },
  {
   "cell_type": "markdown",
   "metadata": {},
   "source": [
    "Since we know that every student is doing physical exercises we will investigate if they do care about the nutrtitons in the food they consume."
   ]
  },
  {
   "cell_type": "code",
   "execution_count": 39,
   "metadata": {},
   "outputs": [],
   "source": [
    "def get_students_nutrition_check_frequency(dataframe):\n",
    "    num_students_by_nutrition_check_frequency = {}\n",
    "\n",
    "    for frequency, group in dataframe.groupby(\"nutritional_check_frequency\"):\n",
    "        \n",
    "        frequency_str = get_nutrition_frequency_string_representation(frequency)\n",
    "        num_students_by_nutrition_check_frequency[frequency_str] = group.index.size\n",
    "        \n",
    "    return num_students_by_nutrition_check_frequency"
   ]
  },
  {
   "cell_type": "code",
   "execution_count": 40,
   "metadata": {},
   "outputs": [],
   "source": [
    "def get_nutrition_frequency_string_representation(freq_num):\n",
    "    return {\n",
    "         1: \"Never\",\n",
    "         2: \"On certain products\",\n",
    "         3: \"Very rarely\",\n",
    "         4: \"On most products\",\n",
    "         5: \"On everything\"\n",
    "    }[freq_num]"
   ]
  },
  {
   "cell_type": "code",
   "execution_count": 41,
   "metadata": {},
   "outputs": [],
   "source": [
    "def plot_students_nutrition_check(dataframe, exercise_freq_nums):\n",
    "    \n",
    "    legend_labels = []\n",
    "    for freq_num in exercise_freq_nums:\n",
    "        \n",
    "        nutrition_check_data = dataframe.loc[dataframe.exercise_frequency == freq_num]\n",
    "    \n",
    "        nutrition_check_freq = get_students_nutrition_check_frequency(nutrition_check_data)\n",
    "\n",
    "        plt.bar(nutrition_check_freq.keys(), nutrition_check_freq.values(), alpha=0.8)\n",
    "    \n",
    "        legend_labels.append(get_exercise_frequency_string_representation(freq_num))\n",
    "        \n",
    "    plt.xlabel(\"Nutritional check frequency for people who exercise \")\n",
    "    plt.ylabel(\"Number of students\")\n",
    "    plt.xticks(rotation=\"vertical\")\n",
    "    plt.legend(legend_labels)\n",
    "    plt.show()"
   ]
  },
  {
   "cell_type": "code",
   "execution_count": 42,
   "metadata": {},
   "outputs": [
    {
     "data": {
      "image/png": "[encoded data removed]",
      "text/plain": [
       "<Figure size 432x288 with 1 Axes>"
      ]
     },
     "metadata": {
      "needs_background": "light"
     },
     "output_type": "display_data"
    }
   ],
   "source": [
    "plot_students_nutrition_check(us_students_data, [1,2,3])"
   ]
  },
  {
   "cell_type": "markdown",
   "metadata": {},
   "source": [
    "From the bar charts above we can say that the students who are more engaged in physical excercises are more likely to look at the nutritions of the food they consume. On the other hand the people who train less are likely to check the nutritions only on certain products."
   ]
  },
  {
   "cell_type": "markdown",
   "metadata": {},
   "source": [
    "Lets see if those those who exercise everyday  take vitamins.\n",
    "\n"
   ]
  },
  {
   "cell_type": "code",
   "execution_count": 44,
   "metadata": {},
   "outputs": [
    {
     "data": {
      "image/png": "[encoded data removed]",
      "text/plain": [
       "<Figure size 432x288 with 1 Axes>"
      ]
     },
     "metadata": {
      "needs_background": "light"
     },
     "output_type": "display_data"
    }
   ],
   "source": [
    "most_physically_active_students = us_students_data.loc[us_students_data.exercise_frequency == 1]\n",
    "\n",
    "most_physically_active_students_who_take_vitamins = most_physically_active_students.loc[most_physically_active_students.vitamins == 1]\n",
    "most_physically_active_students_who_dont_take_vitamins = most_physically_active_students.loc[most_physically_active_students.vitamins == 2]\n",
    "\n",
    "count_most_active_who_take_vitamins = most_physically_active_students_who_take_vitamins.shape[0]\n",
    "count_most_active_who_dont_take_vitamins = most_physically_active_students_who_dont_take_vitamins.shape[0]\n",
    "\n",
    "plt.bar([\"Yes\", \"No\"], [count_most_active_who_take_vitamins,count_most_active_who_dont_take_vitamins ])\n",
    "plt.xlabel(\"Nutrition check by most physically active students.\")\n",
    "plt.ylabel(\"Number of students\")\n",
    "plt.show()"
   ]
  },
  {
   "cell_type": "markdown",
   "metadata": {},
   "source": [
    " How likely are most physically active students to eat fruit in a regular day ? According to them they are in most cases likely or very likely to do that."
   ]
  },
  {
   "cell_type": "code",
   "execution_count": 60,
   "metadata": {},
   "outputs": [
    {
     "data": {
      "image/png": "[encoded data removed]",
      "text/plain": [
       "<Figure size 432x288 with 1 Axes>"
      ]
     },
     "metadata": {
      "needs_background": "light"
     },
     "output_type": "display_data"
    }
   ],
   "source": [
    "fruit_eating_likelihood =  most_physically_active_students.groupby(\"fruit_day\").size()\n",
    "\n",
    "plt.barh(fruit_eating_likelihood.index, fruit_eating_likelihood)\n",
    "plt.ylabel(\"Likelihood for eating fruit a day\")\n",
    "plt.xlabel(\"Number of students\")\n",
    "plt.yticks(range(1,6),[\"very unlikely\", \"unlikely\", \"neutral\", \"likely\", \"very likely\"])\n",
    "plt.show()"
   ]
  },
  {
   "cell_type": "markdown",
   "metadata": {},
   "source": [
    "What about their diet? Almost half of the students who exercise everyday do not eat healthy food. Most probably this is because university is time comsuming and they don't have time to cook their own food or don't have enough money to buy quality food? But this is a completely different topic.\n"
   ]
  },
  {
   "cell_type": "code",
   "execution_count": 61,
   "metadata": {},
   "outputs": [
    {
     "data": {
      "image/png": "[encoded data removed]",
      "text/plain": [
       "<Figure size 432x288 with 1 Axes>"
      ]
     },
     "metadata": {
      "needs_background": "light"
     },
     "output_type": "display_data"
    }
   ],
   "source": [
    "students_by_diet_type = most_physically_active_students.groupby(\"diet_current_coded\").size()\n",
    "plt.barh(students_by_diet_type.index, students_by_diet_type)\n",
    "\n",
    "plt.yticks(range(1,5), [\"healthy/balanced/moderated/\", \"unhealthy/cheap/too much/random/\", \"the same thing over and over\", \"unclear\"])\n",
    "\n",
    "plt.xlabel(\"Number of students who train everyday\")\n",
    "plt.ylabel(\"Diet type\")\n",
    "plt.show()"
   ]
  },
  {
   "cell_type": "markdown",
   "metadata": {},
   "source": [
    "Do the students who exercise the most and have the healthinest diets tend to drink more soda or more orange juice ?\n"
   ]
  },
  {
   "cell_type": "code",
   "execution_count": 62,
   "metadata": {},
   "outputs": [],
   "source": [
    "def plot_drinking_preference(dataframe, ylabel= \"Number of most physically active students\"):\n",
    "    \n",
    "    drinking_prefs = dataframe.groupby(\"drink\").size()\n",
    "\n",
    "    plt.bar(drinking_prefs.index, drinking_prefs)\n",
    "    plt.xticks(range(1,3), [\"orange juice\", \"soda\"])\n",
    "\n",
    "    plt.xlabel(\"Which picture do you associate with the word “drink”\")\n",
    "    plt.ylabel(ylabel)\n",
    "    plt.show()"
   ]
  },
  {
   "cell_type": "code",
   "execution_count": 63,
   "metadata": {},
   "outputs": [
    {
     "data": {
      "image/png": "[encoded data removed]",
      "text/plain": [
       "<Figure size 432x288 with 1 Axes>"
      ]
     },
     "metadata": {
      "needs_background": "light"
     },
     "output_type": "display_data"
    }
   ],
   "source": [
    "most_physically_active_students_with_healthiest_diets = most_physically_active_students[most_physically_active_students.diet_current_coded == 1]\n",
    "plot_drinking_preference(most_physically_active_students_with_healthiest_diets, ylabel= \"Number of most physically active students with healthiest diets\")"
   ]
  },
  {
   "cell_type": "markdown",
   "metadata": {},
   "source": [
    "From the code below we can see that only 17 of 28 prefer orange juice than soda."
   ]
  },
  {
   "cell_type": "code",
   "execution_count": 64,
   "metadata": {},
   "outputs": [
    {
     "name": "stdout",
     "output_type": "stream",
     "text": [
      "drink\n",
      "1.0    17\n",
      "2.0    11\n",
      "dtype: int64\n",
      "----------\n"
     ]
    }
   ],
   "source": [
    "num_juice_drinkers_among_most_phys_active = most_physically_active_students_with_healthiest_diets.groupby(\"drink\").size()\n",
    "print(num_juice_drinkers_among_most_phys_active)\n",
    "print(\"----------\")"
   ]
  },
  {
   "cell_type": "markdown",
   "metadata": {},
   "source": [
    "What about the drinking preferences among all students who exercise everyday but their diets can vary?"
   ]
  },
  {
   "cell_type": "code",
   "execution_count": 65,
   "metadata": {},
   "outputs": [
    {
     "data": {
      "image/png": "[encoded data removed]",
      "text/plain": [
       "<Figure size 432x288 with 1 Axes>"
      ]
     },
     "metadata": {
      "needs_background": "light"
     },
     "output_type": "display_data"
    }
   ],
   "source": [
    "plot_drinking_preference(most_physically_active_students)"
   ]
  },
  {
   "cell_type": "code",
   "execution_count": 66,
   "metadata": {},
   "outputs": [
    {
     "name": "stdout",
     "output_type": "stream",
     "text": [
      "drink\n",
      "1.0    26\n",
      "2.0    29\n",
      "dtype: int64\n",
      "----------\n"
     ]
    }
   ],
   "source": [
    "print(most_physically_active_students.groupby(\"drink\").size())\n",
    "print(\"----------\")"
   ]
  },
  {
   "cell_type": "markdown",
   "metadata": {},
   "source": [
    "For breakfast the most physically active students  would rather chose the cereal option than the donut one."
   ]
  },
  {
   "cell_type": "code",
   "execution_count": 67,
   "metadata": {},
   "outputs": [
    {
     "data": {
      "image/png": "[encoded data removed]",
      "text/plain": [
       "<Figure size 432x288 with 1 Axes>"
      ]
     },
     "metadata": {
      "needs_background": "light"
     },
     "output_type": "display_data"
    }
   ],
   "source": [
    "cereal_breakfasts = most_physically_active_students[most_physically_active_students.breakfast == 1].shape[0]\n",
    "donut_breakfasts = most_physically_active_students[most_physically_active_students.breakfast == 2].shape[0]\n",
    "plt.bar([\"cereal\", \"donut\"], [cereal_breakfasts, donut_breakfasts])\n",
    "\n",
    "plt.xlabel(\"Breakfast Preference\")\n",
    "plt.ylabel(\"Number of physically active students\")\n",
    "plt.show()"
   ]
  },
  {
   "cell_type": "markdown",
   "metadata": {},
   "source": [
    "Its time to explore the favourite cuisines of the every day exercising students."
   ]
  },
  {
   "cell_type": "code",
   "execution_count": 70,
   "metadata": {},
   "outputs": [
    {
     "data": {
      "image/png": "[encoded data removed]",
      "text/plain": [
       "<Figure size 432x288 with 1 Axes>"
      ]
     },
     "metadata": {
      "needs_background": "light"
     },
     "output_type": "display_data"
    }
   ],
   "source": [
    "fav_cuisines_most_of_active_students = most_physically_active_students.groupby(\"fav_cuisine_coded\").size()\n",
    "\n",
    "plt.barh(fav_cuisines_most_of_active_students.index, fav_cuisines_most_of_active_students)\n",
    "\n",
    "favourite_cousines = [\"none\", \"Italian/French/Greek\", \"Spanish/Mexican\", \"Arabic/Turkish\", \"Asian/Chineses/Thai/Nepal\", \"American\",\"African\",  \"Jamaican\", \"Indian\"]\n",
    "plt.yticks(range(len(favourite_cousines)),favourite_cousines )\n",
    "\n",
    "plt.ylabel(\"cuisine\")\n",
    "plt.xlabel(\"Number of students who train everyday\")\n",
    "plt.show()"
   ]
  },
  {
   "cell_type": "markdown",
   "metadata": {},
   "source": [
    "Lets see what ingredients we have in the top 3 cousines(Italian, French, Greek). To do that we will use the Whats Cooking dataset which is available here: https://www.kaggle.com/c/whats-cooking/data.  "
   ]
  },
  {
   "cell_type": "code",
   "execution_count": 71,
   "metadata": {},
   "outputs": [
    {
     "data": {
      "text/html": [
       "<div>\n",
       "<style scoped>\n",
       "    .dataframe tbody tr th:only-of-type {\n",
       "        vertical-align: middle;\n",
       "    }\n",
       "\n",
       "    .dataframe tbody tr th {\n",
       "        vertical-align: top;\n",
       "    }\n",
       "\n",
       "    .dataframe thead th {\n",
       "        text-align: right;\n",
       "    }\n",
       "</style>\n",
       "<table border=\"1\" class=\"dataframe\">\n",
       "  <thead>\n",
       "    <tr style=\"text-align: right;\">\n",
       "      <th></th>\n",
       "      <th>cuisine_name</th>\n",
       "      <th>id</th>\n",
       "      <th>ingredients</th>\n",
       "    </tr>\n",
       "  </thead>\n",
       "  <tbody>\n",
       "    <tr>\n",
       "      <th>0</th>\n",
       "      <td>greek</td>\n",
       "      <td>10259</td>\n",
       "      <td>[romaine lettuce, black olives, grape tomatoes...</td>\n",
       "    </tr>\n",
       "    <tr>\n",
       "      <th>1</th>\n",
       "      <td>southern_us</td>\n",
       "      <td>25693</td>\n",
       "      <td>[plain flour, ground pepper, salt, tomatoes, g...</td>\n",
       "    </tr>\n",
       "    <tr>\n",
       "      <th>2</th>\n",
       "      <td>filipino</td>\n",
       "      <td>20130</td>\n",
       "      <td>[eggs, pepper, salt, mayonaise, cooking oil, g...</td>\n",
       "    </tr>\n",
       "    <tr>\n",
       "      <th>3</th>\n",
       "      <td>indian</td>\n",
       "      <td>22213</td>\n",
       "      <td>[water, vegetable oil, wheat, salt]</td>\n",
       "    </tr>\n",
       "    <tr>\n",
       "      <th>4</th>\n",
       "      <td>indian</td>\n",
       "      <td>13162</td>\n",
       "      <td>[black pepper, shallots, cornflour, cayenne pe...</td>\n",
       "    </tr>\n",
       "  </tbody>\n",
       "</table>\n",
       "</div>"
      ],
      "text/plain": [
       "  cuisine_name     id                                        ingredients\n",
       "0        greek  10259  [romaine lettuce, black olives, grape tomatoes...\n",
       "1  southern_us  25693  [plain flour, ground pepper, salt, tomatoes, g...\n",
       "2     filipino  20130  [eggs, pepper, salt, mayonaise, cooking oil, g...\n",
       "3       indian  22213                [water, vegetable oil, wheat, salt]\n",
       "4       indian  13162  [black pepper, shallots, cornflour, cayenne pe..."
      ]
     },
     "execution_count": 71,
     "metadata": {},
     "output_type": "execute_result"
    }
   ],
   "source": [
    "favourite_cuisines = [\"italian\", \"french\", \"greek\"]\n",
    "\n",
    "cuisines_data = pd.read_json(\"data/cuisine-dataset.json\")\n",
    "\n",
    "cuisines_data = cuisines_data.rename(columns={\"cuisine\": \"cuisine_name\"})\n",
    "cuisines_data.head()"
   ]
  },
  {
   "cell_type": "markdown",
   "metadata": {},
   "source": [
    "Since we don't need the 'id' column it will be removed;"
   ]
  },
  {
   "cell_type": "code",
   "execution_count": 72,
   "metadata": {},
   "outputs": [
    {
     "data": {
      "text/plain": [
       "cuisine_name    object\n",
       "ingredients     object\n",
       "dtype: object"
      ]
     },
     "execution_count": 72,
     "metadata": {},
     "output_type": "execute_result"
    }
   ],
   "source": [
    "cuisines_data =cuisines_data.drop(\"id\", axis=1)\n",
    "cuisines_data.dtypes"
   ]
  },
  {
   "cell_type": "code",
   "execution_count": 73,
   "metadata": {},
   "outputs": [
    {
     "data": {
      "text/html": [
       "<div>\n",
       "<style scoped>\n",
       "    .dataframe tbody tr th:only-of-type {\n",
       "        vertical-align: middle;\n",
       "    }\n",
       "\n",
       "    .dataframe tbody tr th {\n",
       "        vertical-align: top;\n",
       "    }\n",
       "\n",
       "    .dataframe thead th {\n",
       "        text-align: right;\n",
       "    }\n",
       "</style>\n",
       "<table border=\"1\" class=\"dataframe\">\n",
       "  <thead>\n",
       "    <tr style=\"text-align: right;\">\n",
       "      <th></th>\n",
       "      <th>cuisine_name</th>\n",
       "      <th>ingredients</th>\n",
       "    </tr>\n",
       "  </thead>\n",
       "  <tbody>\n",
       "    <tr>\n",
       "      <th>0</th>\n",
       "      <td>greek</td>\n",
       "      <td>[romaine lettuce, black olives, grape tomatoes...</td>\n",
       "    </tr>\n",
       "    <tr>\n",
       "      <th>7</th>\n",
       "      <td>italian</td>\n",
       "      <td>[sugar, pistachio nuts, white almond bark, flo...</td>\n",
       "    </tr>\n",
       "    <tr>\n",
       "      <th>9</th>\n",
       "      <td>italian</td>\n",
       "      <td>[chopped tomatoes, fresh basil, garlic, extra-...</td>\n",
       "    </tr>\n",
       "    <tr>\n",
       "      <th>10</th>\n",
       "      <td>italian</td>\n",
       "      <td>[pimentos, sweet pepper, dried oregano, olive ...</td>\n",
       "    </tr>\n",
       "    <tr>\n",
       "      <th>12</th>\n",
       "      <td>italian</td>\n",
       "      <td>[Italian parsley leaves, walnuts, hot red pepp...</td>\n",
       "    </tr>\n",
       "  </tbody>\n",
       "</table>\n",
       "</div>"
      ],
      "text/plain": [
       "   cuisine_name                                        ingredients\n",
       "0         greek  [romaine lettuce, black olives, grape tomatoes...\n",
       "7       italian  [sugar, pistachio nuts, white almond bark, flo...\n",
       "9       italian  [chopped tomatoes, fresh basil, garlic, extra-...\n",
       "10      italian  [pimentos, sweet pepper, dried oregano, olive ...\n",
       "12      italian  [Italian parsley leaves, walnuts, hot red pepp..."
      ]
     },
     "execution_count": 73,
     "metadata": {},
     "output_type": "execute_result"
    }
   ],
   "source": [
    "students_favourite_cuisines = cuisines_data.loc[cuisines_data.cuisine_name.str.lower().isin(favourite_cuisines)]\n",
    "students_favourite_cuisines.head()"
   ]
  },
  {
   "cell_type": "code",
   "execution_count": 92,
   "metadata": {},
   "outputs": [],
   "source": [
    "def find_top_ten_most_used_igredients(dataframe, cuisine_name):\n",
    "    cuisine_data = dataframe[dataframe[\"cuisine_name\"] == cuisine_name]\n",
    "    stopwords = set([\"salt\", \"sugar\", \"water\"])\n",
    "    \n",
    "    flatten_and_lower = lambda l: [item.lower() for sublist in l for item in sublist if item not in stopwords]\n",
    "    \n",
    "    counter = Counter(flatten_and_lower(cuisine_data.ingredients.ravel()))\n",
    "    return counter.most_common(10)\n",
    "    "
   ]
  },
  {
   "cell_type": "code",
   "execution_count": 95,
   "metadata": {},
   "outputs": [
    {
     "name": "stdout",
     "output_type": "stream",
     "text": [
      "Italian cuisine top 10 most used ingredients\n"
     ]
    },
    {
     "data": {
      "text/plain": [
       "[('olive oil', 3111),\n",
       " ('garlic cloves', 1619),\n",
       " ('grated parmesan cheese', 1580),\n",
       " ('garlic', 1471),\n",
       " ('ground black pepper', 1444),\n",
       " ('extra-virgin olive oil', 1362),\n",
       " ('onions', 1240),\n",
       " ('butter', 1030),\n",
       " ('pepper', 965),\n",
       " ('all-purpose flour', 918)]"
      ]
     },
     "execution_count": 95,
     "metadata": {},
     "output_type": "execute_result"
    }
   ],
   "source": [
    "italian_ingredients = find_top_ten_most_used_igredients(students_favourite_cuisines,\"italian\" )\n",
    "print(\"Italian cuisine top 10 most used ingredients\")\n",
    "italian_ingredients"
   ]
  },
  {
   "cell_type": "code",
   "execution_count": 96,
   "metadata": {},
   "outputs": [
    {
     "name": "stdout",
     "output_type": "stream",
     "text": [
      "French cuisine top 10 most used ingredients\n"
     ]
    },
    {
     "data": {
      "text/plain": [
       "[('all-purpose flour', 593),\n",
       " ('unsalted butter', 592),\n",
       " ('olive oil', 516),\n",
       " ('butter', 514),\n",
       " ('large eggs', 415),\n",
       " ('garlic cloves', 403),\n",
       " ('ground black pepper', 385),\n",
       " ('onions', 368),\n",
       " ('shallots', 321),\n",
       " ('extra-virgin olive oil', 256)]"
      ]
     },
     "execution_count": 96,
     "metadata": {},
     "output_type": "execute_result"
    }
   ],
   "source": [
    "french_ingredients = find_top_ten_most_used_igredients(students_favourite_cuisines,\"french\" )\n",
    "print(\"French cuisine top 10 most used ingredients\")\n",
    "french_ingredients"
   ]
  },
  {
   "cell_type": "code",
   "execution_count": 98,
   "metadata": {},
   "outputs": [
    {
     "name": "stdout",
     "output_type": "stream",
     "text": [
      "Greek cuisine top 10 most used ingredients\n"
     ]
    },
    {
     "data": {
      "text/plain": [
       "[('olive oil', 504),\n",
       " ('dried oregano', 267),\n",
       " ('garlic cloves', 254),\n",
       " ('feta cheese crumbles', 252),\n",
       " ('extra-virgin olive oil', 229),\n",
       " ('fresh lemon juice', 222),\n",
       " ('ground black pepper', 221),\n",
       " ('garlic', 216),\n",
       " ('pepper', 203),\n",
       " ('feta cheese', 191)]"
      ]
     },
     "execution_count": 98,
     "metadata": {},
     "output_type": "execute_result"
    }
   ],
   "source": [
    "greek_ingredients = find_top_ten_most_used_igredients(students_favourite_cuisines,\"greek\" )\n",
    "print(\"Greek cuisine top 10 most used ingredients\")\n",
    "greek_ingredients"
   ]
  },
  {
   "cell_type": "markdown",
   "metadata": {},
   "source": [
    "Lets load another dataset and explore more detailed data about those cuisines"
   ]
  },
  {
   "cell_type": "code",
   "execution_count": 103,
   "metadata": {},
   "outputs": [
    {
     "data": {
      "text/html": [
       "<div>\n",
       "<style scoped>\n",
       "    .dataframe tbody tr th:only-of-type {\n",
       "        vertical-align: middle;\n",
       "    }\n",
       "\n",
       "    .dataframe tbody tr th {\n",
       "        vertical-align: top;\n",
       "    }\n",
       "\n",
       "    .dataframe thead th {\n",
       "        text-align: right;\n",
       "    }\n",
       "</style>\n",
       "<table border=\"1\" class=\"dataframe\">\n",
       "  <thead>\n",
       "    <tr style=\"text-align: right;\">\n",
       "      <th></th>\n",
       "      <th>code</th>\n",
       "      <th>url</th>\n",
       "      <th>creator</th>\n",
       "      <th>created_t</th>\n",
       "      <th>created_datetime</th>\n",
       "      <th>last_modified_t</th>\n",
       "      <th>last_modified_datetime</th>\n",
       "      <th>product_name</th>\n",
       "      <th>generic_name</th>\n",
       "      <th>quantity</th>\n",
       "      <th>...</th>\n",
       "      <th>fruits-vegetables-nuts_100g</th>\n",
       "      <th>fruits-vegetables-nuts-estimate_100g</th>\n",
       "      <th>collagen-meat-protein-ratio_100g</th>\n",
       "      <th>cocoa_100g</th>\n",
       "      <th>chlorophyl_100g</th>\n",
       "      <th>carbon-footprint_100g</th>\n",
       "      <th>nutrition-score-fr_100g</th>\n",
       "      <th>nutrition-score-uk_100g</th>\n",
       "      <th>glycemic-index_100g</th>\n",
       "      <th>water-hardness_100g</th>\n",
       "    </tr>\n",
       "  </thead>\n",
       "  <tbody>\n",
       "    <tr>\n",
       "      <th>0</th>\n",
       "      <td>0000000003087</td>\n",
       "      <td>http://world-en.openfoodfacts.org/product/0000...</td>\n",
       "      <td>openfoodfacts-contributors</td>\n",
       "      <td>1474103866</td>\n",
       "      <td>2016-09-17T09:17:46Z</td>\n",
       "      <td>1474103893</td>\n",
       "      <td>2016-09-17T09:18:13Z</td>\n",
       "      <td>Farine de blé noir</td>\n",
       "      <td>NaN</td>\n",
       "      <td>1kg</td>\n",
       "      <td>...</td>\n",
       "      <td>NaN</td>\n",
       "      <td>NaN</td>\n",
       "      <td>NaN</td>\n",
       "      <td>NaN</td>\n",
       "      <td>NaN</td>\n",
       "      <td>NaN</td>\n",
       "      <td>NaN</td>\n",
       "      <td>NaN</td>\n",
       "      <td>NaN</td>\n",
       "      <td>NaN</td>\n",
       "    </tr>\n",
       "    <tr>\n",
       "      <th>1</th>\n",
       "      <td>0000000004530</td>\n",
       "      <td>http://world-en.openfoodfacts.org/product/0000...</td>\n",
       "      <td>usda-ndb-import</td>\n",
       "      <td>1489069957</td>\n",
       "      <td>2017-03-09T14:32:37Z</td>\n",
       "      <td>1489069957</td>\n",
       "      <td>2017-03-09T14:32:37Z</td>\n",
       "      <td>Banana Chips Sweetened (Whole)</td>\n",
       "      <td>NaN</td>\n",
       "      <td>NaN</td>\n",
       "      <td>...</td>\n",
       "      <td>NaN</td>\n",
       "      <td>NaN</td>\n",
       "      <td>NaN</td>\n",
       "      <td>NaN</td>\n",
       "      <td>NaN</td>\n",
       "      <td>NaN</td>\n",
       "      <td>14.0</td>\n",
       "      <td>14.0</td>\n",
       "      <td>NaN</td>\n",
       "      <td>NaN</td>\n",
       "    </tr>\n",
       "    <tr>\n",
       "      <th>2</th>\n",
       "      <td>0000000004559</td>\n",
       "      <td>http://world-en.openfoodfacts.org/product/0000...</td>\n",
       "      <td>usda-ndb-import</td>\n",
       "      <td>1489069957</td>\n",
       "      <td>2017-03-09T14:32:37Z</td>\n",
       "      <td>1489069957</td>\n",
       "      <td>2017-03-09T14:32:37Z</td>\n",
       "      <td>Peanuts</td>\n",
       "      <td>NaN</td>\n",
       "      <td>NaN</td>\n",
       "      <td>...</td>\n",
       "      <td>NaN</td>\n",
       "      <td>NaN</td>\n",
       "      <td>NaN</td>\n",
       "      <td>NaN</td>\n",
       "      <td>NaN</td>\n",
       "      <td>NaN</td>\n",
       "      <td>0.0</td>\n",
       "      <td>0.0</td>\n",
       "      <td>NaN</td>\n",
       "      <td>NaN</td>\n",
       "    </tr>\n",
       "    <tr>\n",
       "      <th>3</th>\n",
       "      <td>0000000016087</td>\n",
       "      <td>http://world-en.openfoodfacts.org/product/0000...</td>\n",
       "      <td>usda-ndb-import</td>\n",
       "      <td>1489055731</td>\n",
       "      <td>2017-03-09T10:35:31Z</td>\n",
       "      <td>1489055731</td>\n",
       "      <td>2017-03-09T10:35:31Z</td>\n",
       "      <td>Organic Salted Nut Mix</td>\n",
       "      <td>NaN</td>\n",
       "      <td>NaN</td>\n",
       "      <td>...</td>\n",
       "      <td>NaN</td>\n",
       "      <td>NaN</td>\n",
       "      <td>NaN</td>\n",
       "      <td>NaN</td>\n",
       "      <td>NaN</td>\n",
       "      <td>NaN</td>\n",
       "      <td>12.0</td>\n",
       "      <td>12.0</td>\n",
       "      <td>NaN</td>\n",
       "      <td>NaN</td>\n",
       "    </tr>\n",
       "    <tr>\n",
       "      <th>4</th>\n",
       "      <td>0000000016094</td>\n",
       "      <td>http://world-en.openfoodfacts.org/product/0000...</td>\n",
       "      <td>usda-ndb-import</td>\n",
       "      <td>1489055653</td>\n",
       "      <td>2017-03-09T10:34:13Z</td>\n",
       "      <td>1489055653</td>\n",
       "      <td>2017-03-09T10:34:13Z</td>\n",
       "      <td>Organic Polenta</td>\n",
       "      <td>NaN</td>\n",
       "      <td>NaN</td>\n",
       "      <td>...</td>\n",
       "      <td>NaN</td>\n",
       "      <td>NaN</td>\n",
       "      <td>NaN</td>\n",
       "      <td>NaN</td>\n",
       "      <td>NaN</td>\n",
       "      <td>NaN</td>\n",
       "      <td>NaN</td>\n",
       "      <td>NaN</td>\n",
       "      <td>NaN</td>\n",
       "      <td>NaN</td>\n",
       "    </tr>\n",
       "  </tbody>\n",
       "</table>\n",
       "<p>5 rows × 163 columns</p>\n",
       "</div>"
      ],
      "text/plain": [
       "            code                                                url  \\\n",
       "0  0000000003087  http://world-en.openfoodfacts.org/product/0000...   \n",
       "1  0000000004530  http://world-en.openfoodfacts.org/product/0000...   \n",
       "2  0000000004559  http://world-en.openfoodfacts.org/product/0000...   \n",
       "3  0000000016087  http://world-en.openfoodfacts.org/product/0000...   \n",
       "4  0000000016094  http://world-en.openfoodfacts.org/product/0000...   \n",
       "\n",
       "                      creator   created_t      created_datetime  \\\n",
       "0  openfoodfacts-contributors  1474103866  2016-09-17T09:17:46Z   \n",
       "1             usda-ndb-import  1489069957  2017-03-09T14:32:37Z   \n",
       "2             usda-ndb-import  1489069957  2017-03-09T14:32:37Z   \n",
       "3             usda-ndb-import  1489055731  2017-03-09T10:35:31Z   \n",
       "4             usda-ndb-import  1489055653  2017-03-09T10:34:13Z   \n",
       "\n",
       "  last_modified_t last_modified_datetime                    product_name  \\\n",
       "0      1474103893   2016-09-17T09:18:13Z              Farine de blé noir   \n",
       "1      1489069957   2017-03-09T14:32:37Z  Banana Chips Sweetened (Whole)   \n",
       "2      1489069957   2017-03-09T14:32:37Z                         Peanuts   \n",
       "3      1489055731   2017-03-09T10:35:31Z          Organic Salted Nut Mix   \n",
       "4      1489055653   2017-03-09T10:34:13Z                 Organic Polenta   \n",
       "\n",
       "  generic_name quantity         ...         fruits-vegetables-nuts_100g  \\\n",
       "0          NaN      1kg         ...                                 NaN   \n",
       "1          NaN      NaN         ...                                 NaN   \n",
       "2          NaN      NaN         ...                                 NaN   \n",
       "3          NaN      NaN         ...                                 NaN   \n",
       "4          NaN      NaN         ...                                 NaN   \n",
       "\n",
       "  fruits-vegetables-nuts-estimate_100g collagen-meat-protein-ratio_100g  \\\n",
       "0                                  NaN                              NaN   \n",
       "1                                  NaN                              NaN   \n",
       "2                                  NaN                              NaN   \n",
       "3                                  NaN                              NaN   \n",
       "4                                  NaN                              NaN   \n",
       "\n",
       "  cocoa_100g chlorophyl_100g carbon-footprint_100g nutrition-score-fr_100g  \\\n",
       "0        NaN             NaN                   NaN                     NaN   \n",
       "1        NaN             NaN                   NaN                    14.0   \n",
       "2        NaN             NaN                   NaN                     0.0   \n",
       "3        NaN             NaN                   NaN                    12.0   \n",
       "4        NaN             NaN                   NaN                     NaN   \n",
       "\n",
       "  nutrition-score-uk_100g glycemic-index_100g water-hardness_100g  \n",
       "0                     NaN                 NaN                 NaN  \n",
       "1                    14.0                 NaN                 NaN  \n",
       "2                     0.0                 NaN                 NaN  \n",
       "3                    12.0                 NaN                 NaN  \n",
       "4                     NaN                 NaN                 NaN  \n",
       "\n",
       "[5 rows x 163 columns]"
      ]
     },
     "execution_count": 103,
     "metadata": {},
     "output_type": "execute_result"
    }
   ],
   "source": [
    "food_data = pd.read_table(\"data/en.openfoodfacts.org.products.tsv\", low_memory=False)\n",
    "food_data.head()"
   ]
  },
  {
   "cell_type": "code",
   "execution_count": 105,
   "metadata": {},
   "outputs": [],
   "source": [
    "food_data = food_data.rename(columns={\"nutrition-score-fr_100g\": \"nutrition_score_fr_100g\", \"nutrition-score-uk_100g\": \"nutrition_score_uk_100g\", \"trans-fat_100g\": \"trans_fat_100g\"})"
   ]
  },
  {
   "cell_type": "code",
   "execution_count": 106,
   "metadata": {},
   "outputs": [],
   "source": [
    "def generate_or_regex(words):\n",
    "    regex = \"\"\n",
    "    for word in words:\n",
    "        regex += word+\"|\"\n",
    "        \n",
    "    return regex[:-1]"
   ]
  },
  {
   "cell_type": "markdown",
   "metadata": {},
   "source": [
    "Now it's time to see the average nutrition score for all products sold in Italy, France, Greece and in some of the other cuisines. The nutrition score is an aggregated value of the nutritions in each product. Lets first see the score aggregated data from all available coutries."
   ]
  },
  {
   "cell_type": "markdown",
   "metadata": {},
   "source": [
    "The nutrition scores from both 'fr' and 'uk' type scores are the same and with the same length. So it doesn't matter which column we will chose for the scoring."
   ]
  },
  {
   "cell_type": "code",
   "execution_count": 111,
   "metadata": {},
   "outputs": [],
   "source": [
    "diff_nutrition_score_by_country = food_data[(food_data[\"nutrition_score_fr_100g\"] != food_data[\"nutrition_score_uk_100g\"])].dropna()\n",
    "\n",
    "assert diff_nutrition_score_by_country.shape[0] == 0\n",
    "assert food_data[\"nutrition_score_fr_100g\"].shape[0] == food_data[\"nutrition_score_uk_100g\"].shape[0]"
   ]
  },
  {
   "cell_type": "code",
   "execution_count": 113,
   "metadata": {},
   "outputs": [
    {
     "name": "stdout",
     "output_type": "stream",
     "text": [
      "Nutrition score for all countries\n"
     ]
    },
    {
     "data": {
      "text/plain": [
       "count    254856.000000\n",
       "mean          9.166137\n",
       "std           8.999870\n",
       "min         -15.000000\n",
       "25%           1.000000\n",
       "50%          10.000000\n",
       "75%          16.000000\n",
       "max          40.000000\n",
       "Name: nutrition_score_fr_100g, dtype: float64"
      ]
     },
     "execution_count": 113,
     "metadata": {},
     "output_type": "execute_result"
    }
   ],
   "source": [
    "print(\"Nutrition score for all countries\")\n",
    "food_data[\"nutrition_score_fr_100g\"].describe()"
   ]
  },
  {
   "cell_type": "code",
   "execution_count": 114,
   "metadata": {},
   "outputs": [],
   "source": [
    "def find_data_for_country(dataframe, country_keywords):\n",
    "    regex = generate_or_regex(country_keywords)\n",
    "    return dataframe[~(dataframe.countries_en.isna()) & (dataframe.countries_en.str.lower().str.contains(regex))]"
   ]
  },
  {
   "cell_type": "code",
   "execution_count": 115,
   "metadata": {},
   "outputs": [
    {
     "data": {
      "text/plain": [
       "count    522.000000\n",
       "mean       9.189655\n",
       "std        8.733001\n",
       "min      -10.000000\n",
       "25%        1.000000\n",
       "50%        9.000000\n",
       "75%       16.000000\n",
       "max       28.000000\n",
       "Name: nutrition_score_fr_100g, dtype: float64"
      ]
     },
     "execution_count": 115,
     "metadata": {},
     "output_type": "execute_result"
    }
   ],
   "source": [
    "italy_keywords = [\"italien\", \"italy\", \"italie\" ]\n",
    "\n",
    "italy_food_data = find_data_for_country(food_data, italy_keywords)\n",
    "italy_food_data[\"nutrition_score_fr_100g\"].describe()"
   ]
  },
  {
   "cell_type": "code",
   "execution_count": 116,
   "metadata": {},
   "outputs": [
    {
     "data": {
      "text/plain": [
       "count    93395.000000\n",
       "mean         8.861192\n",
       "std          8.903680\n",
       "min        -15.000000\n",
       "25%          1.000000\n",
       "50%          9.000000\n",
       "75%         15.000000\n",
       "max         40.000000\n",
       "Name: nutrition_score_fr_100g, dtype: float64"
      ]
     },
     "execution_count": 116,
     "metadata": {},
     "output_type": "execute_result"
    }
   ],
   "source": [
    "french_keywords = [\"france\", \"french\"]\n",
    "france_food_data = find_data_for_country(food_data, french_keywords)\n",
    "\n",
    "france_food_data[\"nutrition_score_fr_100g\"].describe()"
   ]
  },
  {
   "cell_type": "code",
   "execution_count": 117,
   "metadata": {},
   "outputs": [
    {
     "data": {
      "text/plain": [
       "count    34.000000\n",
       "mean      8.617647\n",
       "std       9.871952\n",
       "min      -5.000000\n",
       "25%       0.000000\n",
       "50%      11.000000\n",
       "75%      15.000000\n",
       "max      26.000000\n",
       "Name: nutrition_score_fr_100g, dtype: float64"
      ]
     },
     "execution_count": 117,
     "metadata": {},
     "output_type": "execute_result"
    }
   ],
   "source": [
    "greece_food_data = find_data_for_country(food_data, [\"greece\"])\n",
    "\n",
    "\n",
    "greece_food_data[\"nutrition_score_fr_100g\"].describe()"
   ]
  },
  {
   "cell_type": "markdown",
   "metadata": {},
   "source": [
    "Note that the sample size of Greece is very small compared to Italy and France"
   ]
  },
  {
   "cell_type": "markdown",
   "metadata": {},
   "source": [
    "Lets investigate the nutrition scores for the not so popular among the students cuisines. "
   ]
  },
  {
   "cell_type": "code",
   "execution_count": 118,
   "metadata": {},
   "outputs": [
    {
     "data": {
      "text/plain": [
       "count    3002.000000\n",
       "mean        6.153897\n",
       "std         9.104029\n",
       "min       -14.000000\n",
       "25%        -1.000000\n",
       "50%         5.000000\n",
       "75%        13.000000\n",
       "max        29.000000\n",
       "Name: nutrition_score_fr_100g, dtype: float64"
      ]
     },
     "execution_count": 118,
     "metadata": {},
     "output_type": "execute_result"
    }
   ],
   "source": [
    "spanish_food = find_data_for_country(food_data, [\"spain\", \"spanish\"])\n",
    "spanish_food[\"nutrition_score_fr_100g\"].describe()"
   ]
  },
  {
   "cell_type": "code",
   "execution_count": 119,
   "metadata": {},
   "outputs": [
    {
     "data": {
      "text/plain": [
       "count    95.000000\n",
       "mean      6.305263\n",
       "std       8.672620\n",
       "min      -7.000000\n",
       "25%       0.000000\n",
       "50%       1.000000\n",
       "75%      13.000000\n",
       "max      26.000000\n",
       "Name: nutrition_score_fr_100g, dtype: float64"
      ]
     },
     "execution_count": 119,
     "metadata": {},
     "output_type": "execute_result"
    }
   ],
   "source": [
    "mexican_food = find_data_for_country(food_data, [\"mexico\", \"mexican\"])\n",
    "mexican_food[\"nutrition_score_fr_100g\"].describe()"
   ]
  },
  {
   "cell_type": "code",
   "execution_count": 120,
   "metadata": {},
   "outputs": [
    {
     "data": {
      "text/plain": [
       "count    22.000000\n",
       "mean     10.318182\n",
       "std       8.730823\n",
       "min       0.000000\n",
       "25%       2.500000\n",
       "50%      10.000000\n",
       "75%      17.000000\n",
       "max      28.000000\n",
       "Name: nutrition_score_fr_100g, dtype: float64"
      ]
     },
     "execution_count": 120,
     "metadata": {},
     "output_type": "execute_result"
    }
   ],
   "source": [
    "thai_food = find_data_for_country(food_data, [\"thai\", \"thailand\"])\n",
    "thai_food[\"nutrition_score_fr_100g\"].describe()"
   ]
  },
  {
   "cell_type": "code",
   "execution_count": 121,
   "metadata": {},
   "outputs": [
    {
     "data": {
      "text/plain": [
       "count    12.000000\n",
       "mean     17.166667\n",
       "std       8.494205\n",
       "min       2.000000\n",
       "25%      13.000000\n",
       "50%      14.500000\n",
       "75%      26.000000\n",
       "max      28.000000\n",
       "Name: nutrition_score_fr_100g, dtype: float64"
      ]
     },
     "execution_count": 121,
     "metadata": {},
     "output_type": "execute_result"
    }
   ],
   "source": [
    "chinese_food = find_data_for_country(food_data, [\"china\", \"chinese\"])\n",
    "chinese_food[\"nutrition_score_fr_100g\"].describe()"
   ]
  },
  {
   "cell_type": "code",
   "execution_count": 122,
   "metadata": {},
   "outputs": [
    {
     "data": {
      "text/plain": [
       "count    139492.000000\n",
       "mean          9.450814\n",
       "std           9.011265\n",
       "min         -10.000000\n",
       "25%           1.000000\n",
       "50%          10.000000\n",
       "75%          17.000000\n",
       "max          40.000000\n",
       "Name: nutrition_score_fr_100g, dtype: float64"
      ]
     },
     "execution_count": 122,
     "metadata": {},
     "output_type": "execute_result"
    }
   ],
   "source": [
    "american_food = find_data_for_country(food_data, [\"america\", \"usa\", \"american\", \"united states\", \"united states of america\"])\n",
    "american_food[\"nutrition_score_fr_100g\"].describe()"
   ]
  },
  {
   "cell_type": "markdown",
   "metadata": {},
   "source": [
    "Look like the Chinese cuisine has the best stats so far but unfortunetely the data is not enough (only 12 observations) so those values will be ignored as well as the  thai cuisine."
   ]
  },
  {
   "cell_type": "markdown",
   "metadata": {},
   "source": [
    "The top 3 favourite cuisines among the students who exercise everyday tend to have better nutritions than Spain and Mexican cuisines. Also their means are very close to the global ones."
   ]
  },
  {
   "cell_type": "code",
   "execution_count": 123,
   "metadata": {},
   "outputs": [
    {
     "data": {
      "image/png": "[encoded data removed]",
      "text/plain": [
       "<Figure size 432x288 with 1 Axes>"
      ]
     },
     "metadata": {
      "needs_background": "light"
     },
     "output_type": "display_data"
    }
   ],
   "source": [
    "nutrition_scores = [italy_food_data[\"nutrition_score_fr_100g\"].mean(),\n",
    "                    france_food_data[\"nutrition_score_fr_100g\"].mean(),\n",
    "                    greece_food_data[\"nutrition_score_fr_100g\"].mean(),\n",
    "                    spanish_food[\"nutrition_score_fr_100g\"].mean(),\n",
    "                    mexican_food[\"nutrition_score_fr_100g\"].mean(),\n",
    "                    american_food[\"nutrition_score_fr_100g\"].mean()\n",
    "                   ]\n",
    "\n",
    "fig = plt.figure()\n",
    "ax = fig.add_subplot(111)\n",
    "ax.axhline(9.17, color=\"red\")\n",
    "ax.text(1.02, 9.17, s= \"9.17 Global avg nutrition score\", va='center', ha=\"left\", bbox=dict(facecolor=\"w\",alpha=0.5),\n",
    "        transform=ax.get_yaxis_transform())\n",
    "\n",
    "plt.bar([\"Italy\", \"France\", \"Greece\", \"Spain\", \"Mexico\", \"America\"], nutrition_scores )\n",
    "plt.xlabel(\"Country's cuisine\")\n",
    "plt.ylabel(\"Nutrition score\")\n",
    "plt.show()"
   ]
  },
  {
   "cell_type": "markdown",
   "metadata": {},
   "source": [
    "Lets compare the average trans fat amount for 100 g. from each of those countries. Trans fats are the worst kind of fats.\n",
    "\n",
    "Citation from Harvard Medical school: \"Eating foods rich in trans fats increases the amount of harmful LDL cholesterol in the bloodstream and reduces the amount of beneficial HDL cholesterol. Trans fats create inflammation, which is linked to heart disease, stroke, diabetes, and other chronic conditions. They contribute to insulin resistance, which increases the risk of developing type 2 diabetes. Even small amounts of trans fats can harm health: for every 2% of calories from trans fat consumed daily, the risk of heart disease rises by 23%. Trans fats have no known health benefits and that there is no safe level of consumption. \"\n",
    "\n",
    "source: https://www.health.harvard.edu/staying-healthy/the-truth-about-fats-bad-and-good"
   ]
  },
  {
   "cell_type": "markdown",
   "metadata": {},
   "source": [
    "First we will ensure that all the data has at least 30 observations. The commented lines are the countries which tests failed."
   ]
  },
  {
   "cell_type": "code",
   "execution_count": 124,
   "metadata": {},
   "outputs": [],
   "source": [
    "# assert italy_food_data.trans_fat_100g.dropna().shape[0] >= 30\n",
    "assert france_food_data.trans_fat_100g.dropna().shape[0] >= 30\n",
    "# assert greece_food_data.trans_fat_100g.dropna().shape[0] >= 30\n",
    "# assert spanish_food.trans_fat_100g.dropna().shape[0] >= 30\n",
    "# assert mexican_food.trans_fat_100g.dropna().shape[0] >= 30\n",
    "assert american_food.trans_fat_100g.dropna().shape[0] >= 30"
   ]
  },
  {
   "cell_type": "markdown",
   "metadata": {},
   "source": [
    "From the chart bellow we can see that French products have 2 times more trans fat than the global average which is strange(maybe the data is biased)."
   ]
  },
  {
   "cell_type": "code",
   "execution_count": 127,
   "metadata": {},
   "outputs": [
    {
     "data": {
      "image/png": "[encoded data removed]",
      "text/plain": [
       "<Figure size 432x288 with 1 Axes>"
      ]
     },
     "metadata": {
      "needs_background": "light"
     },
     "output_type": "display_data"
    }
   ],
   "source": [
    "trans_fats = [france_food_data.trans_fat_100g.mean(),\n",
    "                    american_food.trans_fat_100g.mean()\n",
    "                   ]\n",
    "\n",
    "global_avg_trans_fat_100g = food_data.trans_fat_100g.mean()\n",
    "\n",
    "fig = plt.figure()\n",
    "ax = fig.add_subplot(111)\n",
    "ax.axhline(global_avg_trans_fat_100g, color=\"red\")\n",
    "ax.text(1.02, global_avg_trans_fat_100g, s= \"0.73 Global avg trans fat per 100g\", va='center', ha=\"left\", bbox=dict(facecolor=\"w\",alpha=0.5),\n",
    "        transform=ax.get_yaxis_transform())\n",
    "\n",
    "plt.bar([\"France\", \"America\"], trans_fats )\n",
    "plt.xlabel(\"Country's cuisine\")\n",
    "plt.ylabel(\"Trans fats for 100g in grams\")\n",
    "plt.show()"
   ]
  },
  {
   "cell_type": "markdown",
   "metadata": {},
   "source": [
    "## Conclusion\n",
    "Even though the majority of students who train everyday care about the nutritions in the food they consume, more than half of them don't eat healthy food and some of them drink soda. The products from their favourite cuisines tend to have an average nutrition score and French cuisine has twice the amount of the trans fats. So the answer to the question: \"Do American students from  Mercyhurst University who exercise every day eat healthy?\" is NO.\n"
   ]
  },
  {
   "cell_type": "markdown",
   "metadata": {},
   "source": [
    "# References\n",
    "used datasets:\n",
    "\n",
    "https://www.kaggle.com/openfoodfacts/world-food-facts\n",
    "\n",
    "https://www.kaggle.com/c/whats-cooking\n",
    "\n",
    "https://www.kaggle.com/borapajo/food-choices\n",
    "\n",
    "info:\n",
    "\n",
    "https://www.health.harvard.edu/staying-healthy/the-truth-about-fats-bad-and-good\n",
    "\n",
    "https://aboutthechef.com/blog/italian-cuisine-vs-french-cuisine/\n"
   ]
  }
 ],
 "metadata": {
  "kernelspec": {
   "display_name": "Python 3",
   "language": "python",
   "name": "python3"
  },
  "language_info": {
   "codemirror_mode": {
    "name": "ipython",
    "version": 3
   },
   "file_extension": ".py",
   "mimetype": "text/x-python",
   "name": "python",
   "nbconvert_exporter": "python",
   "pygments_lexer": "ipython3",
   "version": "3.7.1"
  }
 },
 "nbformat": 4,
 "nbformat_minor": 2
}
